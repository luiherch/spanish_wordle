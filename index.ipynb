{
 "cells": [
  {
   "cell_type": "markdown",
   "metadata": {},
   "source": [
    "# Data preprocessing\n",
    "Cleaning data by removing \\n characters, then we perform NFD transformation to separate diacritics from the simple characters (except ~) and go back to NFC ([source here](https://es.stackoverflow.com/questions/135707/c%C3%B3mo-puedo-reemplazar-las-letras-con-tildes-por-las-mismas-sin-tilde-pero-no-l)). This way we converted all characters with diacritics to the simple character. Finally, 5-letter words are saved in a list.\n",
    "\n",
    "## Letter frequency visualization\n",
    "Counter object from colletions is used to count the frequency of each letter. Then, a histogram is used to visualize these values."
   ]
  },
  {
   "cell_type": "code",
   "execution_count": 14,
   "metadata": {},
   "outputs": [
    {
     "name": "stdout",
     "output_type": "stream",
     "text": [
      "Counter({'a': 10730, 'e': 6850, 'o': 6194, 'r': 4417, 'i': 3912, 'l': 3262, 's': 3218, 'n': 2919, 'c': 2781, 'u': 2621, 't': 2462, 'p': 1982, 'm': 1867, 'd': 1775, 'b': 1462, 'g': 1245, 'f': 926, 'h': 914, 'j': 882, 'v': 846, 'z': 697, 'ñ': 416, 'y': 370, 'x': 135, 'q': 130, 'k': 46, 'w': 8})\n",
      "12614\n"
     ]
    },
    {
     "data": {
      "image/png": "[encoded data removed]",
      "text/plain": [
       "<Figure size 432x288 with 1 Axes>"
      ]
     },
     "metadata": {
      "needs_background": "light"
     },
     "output_type": "display_data"
    }
   ],
   "source": [
    "from collections import Counter\n",
    "import re\n",
    "from unicodedata import normalize\n",
    "import matplotlib.pyplot as plt\n",
    "\n",
    "data = open('0_palabras_todas.txt', encoding=\"utf8\")\n",
    "count = 0\n",
    "words = []\n",
    "chars = Counter()\n",
    "\n",
    "while True:\n",
    "    count +=1\n",
    "    line = data.readline()\n",
    "    line = line[:-1]\n",
    "\n",
    "    if not line:\n",
    "        break\n",
    "\n",
    "    if (len(line) == 5):\n",
    "        # -> NFD y eliminar diacríticos\n",
    "        line = re.sub(\n",
    "        r\"([^n\\u0300-\\u036f]|n(?!\\u0303(?![\\u0300-\\u036f])))[\\u0300-\\u036f]+\", r\"\\1\", \n",
    "        normalize( \"NFD\", line), 0, re.I\n",
    "    )\n",
    "\n",
    "        # -> NFC\n",
    "        line = normalize('NFC', line)\n",
    "        words.append(line)\n",
    "        chars.update(Counter(line))\n",
    "\n",
    "\n",
    "chars.pop('O')\n",
    "chars.pop('(')\n",
    "chars.pop(' ')\n",
    "print(chars)\n",
    "print(len(words))\n",
    "data.close()\n",
    "plt.bar(list(chars.keys()), chars.values(), color='g')\n",
    "plt.ylabel('Ocurrencias')\n",
    "plt.show()\n",
    "\n",
    "# get frequency\n",
    "#https://es.stackoverflow.com/questions/135707/c%C3%B3mo-puedo-reemplazar-las-letras-con-tildes-por-las-mismas-sin-tilde-pero-no-l"
   ]
  },
  {
   "cell_type": "code",
   "execution_count": 15,
   "metadata": {},
   "outputs": [
    {
     "name": "stdout",
     "output_type": "stream",
     "text": [
      "['bicro']\n"
     ]
    }
   ],
   "source": [
    "import numpy as np\n",
    "\n",
    "def remove_at(i, s):\n",
    "    return s[:i] + s[i+1:]\n",
    "\n",
    "def reduce_word_pool(wordlist, sel_word, pattern):\n",
    "    '''\n",
    "    Given a word and its pattern, reduce the list of possible words given that pattern.\n",
    "    '''\n",
    "    # First, we extract the ternary info from the word and the pattern, to see which letter we will ignore, etc..\n",
    "    # Getting indeces:\n",
    "    ind_gray = [i for i,x in enumerate(pattern) if x==0]\n",
    "    ind_yellow = [i for i,x in enumerate(pattern) if x==1]\n",
    "    ind_green = [i for i,x in enumerate(pattern) if x==2]\n",
    "    ind_gray_yellow = [i for i,x in enumerate(pattern) if x==0 or x ==1]\n",
    "\n",
    "    ignore = [sel_word[ind] for ind in ind_gray]\n",
    "    present = [sel_word[ind] for ind in ind_yellow]\n",
    "    correct = [sel_word[ind] for ind in ind_green]\n",
    "    # ignore contains letters that are gray (we don't need the index)\n",
    "    # present contains letters that are yellow (we will need to use also the index, maybe tuple or dict)\n",
    "    # correct contains letters that are green (we will need to use also the index, maybe tuple or dict)\n",
    "\n",
    "    # Loop\n",
    "    new_wordlist = []\n",
    "    for word in wordlist:\n",
    "        char_list = ignore\n",
    "        match = [characters in char_list for characters in word]\n",
    "        if not any(match):\n",
    "            # Now we have words that do not contain gray letters\n",
    "            correct_pos = [word[ind] for ind in ind_green]\n",
    "            if correct_pos == correct:\n",
    "                # # Now we have words that have green chars in the respective position\n",
    "                # # Pick the word, remove the char in the index pos of yellow and check if exists in the other chars\n",
    "                \n",
    "                # Second approach:\n",
    "                # First check that yellow words are not in yellow positions\n",
    "                present_pos = [word[ind] for ind in ind_yellow]\n",
    "                match = [i for i, j in zip(present, present_pos) if i == j]\n",
    "                if not match:\n",
    "                    # Now we are sure that there are no correct yellow words\n",
    "                    # Now check that all the yellow letters appear in the other positions\n",
    "                    to_check = [word[ind] for ind in ind_gray_yellow]\n",
    "                    flag = []\n",
    "                    flag2 = 0\n",
    "                    for elem in present:\n",
    "                        for i in to_check:\n",
    "                            if elem == i:\n",
    "                                flag.append(True)\n",
    "                        if not any(flag):\n",
    "                            break\n",
    "                        else:\n",
    "                            flag = []\n",
    "                            flag2 += 1\n",
    "                    if len(present) == flag2:\n",
    "                        new_wordlist.append(word)\n",
    "\n",
    "    return new_wordlist\n",
    "\n",
    "wordlist = ['cebra','hijos','realp', '12345', 'bicro']\n",
    "\n",
    "a = reduce_word_pool(wordlist, 'barco', [2,0,1,1,2])\n",
    "print(a)"
   ]
  },
  {
   "cell_type": "code",
   "execution_count": 16,
   "metadata": {},
   "outputs": [
    {
     "name": "stdout",
     "output_type": "stream",
     "text": [
      "['liaba', 'liado', 'liana', 'liaza', 'libad', 'liban', 'liban', 'libia', 'licia', 'licua', 'licua', 'licua', 'lidia', 'lidia', 'ligad', 'ligan', 'lijad', 'lijan', 'lilac', 'lilao', 'limad', 'liman', 'linao', 'linda', 'linda', 'linfa', 'litad', 'litan', 'liuda', 'liuda', 'llaca', 'llaga', 'llaga', 'llago', 'llago', 'llama', 'llama', 'llamo', 'llamo', 'llana', 'llano', 'llapa', 'llapa', 'llapo', 'llapo', 'loaba', 'loado', 'local', 'locha', 'logia', 'loica', 'loina', 'loina', 'lomba', 'longa', 'lonja', 'lucha', 'lucha', 'lucia', 'lucia', 'lucma', 'ludan', 'ludia', 'ludia', 'luian', 'lujad', 'lujan', 'lumia', 'lunfa', 'lupia', 'luvia', 'luxad', 'luxan', 'luyan', 'luzca']\n",
      "75\n"
     ]
    }
   ],
   "source": [
    "wordlist = words\n",
    "guess_word = 'laser'\n",
    "pattern = [2,1,0,0,0]\n",
    "\n",
    "wordlist = reduce_word_pool(wordlist, guess_word, pattern)\n",
    "print(wordlist)\n",
    "print(len(wordlist))"
   ]
  },
  {
   "cell_type": "code",
   "execution_count": 17,
   "metadata": {},
   "outputs": [],
   "source": [
    "def ternary_to_list(number):\n",
    "    res = [0,0,0,0,0]\n",
    "    len_number = len(str(number))\n",
    "    for i in range(len_number): res[4-i] = int(str(number)[len_number-1-i]) \n",
    "    return res\n",
    "\n",
    "def list_to_ternary(number):\n",
    "    res = \"\"\n",
    "    for i in range(len(number)): res += str(number[i])\n",
    "    return int(res)"
   ]
  },
  {
   "cell_type": "code",
   "execution_count": 18,
   "metadata": {},
   "outputs": [
    {
     "data": {
      "text/plain": [
       "102"
      ]
     },
     "execution_count": 18,
     "metadata": {},
     "output_type": "execute_result"
    }
   ],
   "source": [
    "list_to_ternary([0,0,1,0,2])"
   ]
  },
  {
   "cell_type": "code",
   "execution_count": 19,
   "metadata": {},
   "outputs": [
    {
     "data": {
      "text/plain": [
       "[0, 0, 1, 0, 2]"
      ]
     },
     "execution_count": 19,
     "metadata": {},
     "output_type": "execute_result"
    }
   ],
   "source": [
    "ternary_to_list(102)"
   ]
  },
  {
   "cell_type": "markdown",
   "metadata": {},
   "source": [
    "## Computing probabilities\n",
    "There are $3^5$ possible patterns, as there are only 3 states and 5 squares."
   ]
  },
  {
   "cell_type": "code",
   "execution_count": 20,
   "metadata": {},
   "outputs": [
    {
     "name": "stdout",
     "output_type": "stream",
     "text": [
      "[[0, 0, 0, 0, 0], [0, 0, 0, 0, 1], [0, 0, 0, 0, 2], [0, 0, 0, 1, 0], [0, 0, 0, 1, 1], [0, 0, 0, 1, 2], [0, 0, 0, 2, 0], [0, 0, 0, 2, 1], [0, 0, 0, 2, 2], [0, 0, 1, 0, 0], [0, 0, 1, 0, 1], [0, 0, 1, 0, 2], [0, 0, 1, 1, 0], [0, 0, 1, 1, 1], [0, 0, 1, 1, 2], [0, 0, 1, 2, 0], [0, 0, 1, 2, 1], [0, 0, 1, 2, 2], [0, 0, 2, 0, 0], [0, 0, 2, 0, 1], [0, 0, 2, 0, 2], [0, 0, 2, 1, 0], [0, 0, 2, 1, 1], [0, 0, 2, 1, 2], [0, 0, 2, 2, 0], [0, 0, 2, 2, 1], [0, 0, 2, 2, 2], [0, 1, 0, 0, 0], [0, 1, 0, 0, 1], [0, 1, 0, 0, 2], [0, 1, 0, 1, 0], [0, 1, 0, 1, 1], [0, 1, 0, 1, 2], [0, 1, 0, 2, 0], [0, 1, 0, 2, 1], [0, 1, 0, 2, 2], [0, 1, 1, 0, 0], [0, 1, 1, 0, 1], [0, 1, 1, 0, 2], [0, 1, 1, 1, 0], [0, 1, 1, 1, 1], [0, 1, 1, 1, 2], [0, 1, 1, 2, 0], [0, 1, 1, 2, 1], [0, 1, 1, 2, 2], [0, 1, 2, 0, 0], [0, 1, 2, 0, 1], [0, 1, 2, 0, 2], [0, 1, 2, 1, 0], [0, 1, 2, 1, 1], [0, 1, 2, 1, 2], [0, 1, 2, 2, 0], [0, 1, 2, 2, 1], [0, 1, 2, 2, 2], [0, 2, 0, 0, 0], [0, 2, 0, 0, 1], [0, 2, 0, 0, 2], [0, 2, 0, 1, 0], [0, 2, 0, 1, 1], [0, 2, 0, 1, 2], [0, 2, 0, 2, 0], [0, 2, 0, 2, 1], [0, 2, 0, 2, 2], [0, 2, 1, 0, 0], [0, 2, 1, 0, 1], [0, 2, 1, 0, 2], [0, 2, 1, 1, 0], [0, 2, 1, 1, 1], [0, 2, 1, 1, 2], [0, 2, 1, 2, 0], [0, 2, 1, 2, 1], [0, 2, 1, 2, 2], [0, 2, 2, 0, 0], [0, 2, 2, 0, 1], [0, 2, 2, 0, 2], [0, 2, 2, 1, 0], [0, 2, 2, 1, 1], [0, 2, 2, 1, 2], [0, 2, 2, 2, 0], [0, 2, 2, 2, 1], [0, 2, 2, 2, 2], [1, 0, 0, 0, 0], [1, 0, 0, 0, 1], [1, 0, 0, 0, 2], [1, 0, 0, 1, 0], [1, 0, 0, 1, 1], [1, 0, 0, 1, 2], [1, 0, 0, 2, 0], [1, 0, 0, 2, 1], [1, 0, 0, 2, 2], [1, 0, 1, 0, 0], [1, 0, 1, 0, 1], [1, 0, 1, 0, 2], [1, 0, 1, 1, 0], [1, 0, 1, 1, 1], [1, 0, 1, 1, 2], [1, 0, 1, 2, 0], [1, 0, 1, 2, 1], [1, 0, 1, 2, 2], [1, 0, 2, 0, 0], [1, 0, 2, 0, 1], [1, 0, 2, 0, 2], [1, 0, 2, 1, 0], [1, 0, 2, 1, 1], [1, 0, 2, 1, 2], [1, 0, 2, 2, 0], [1, 0, 2, 2, 1], [1, 0, 2, 2, 2], [1, 1, 0, 0, 0], [1, 1, 0, 0, 1], [1, 1, 0, 0, 2], [1, 1, 0, 1, 0], [1, 1, 0, 1, 1], [1, 1, 0, 1, 2], [1, 1, 0, 2, 0], [1, 1, 0, 2, 1], [1, 1, 0, 2, 2], [1, 1, 1, 0, 0], [1, 1, 1, 0, 1], [1, 1, 1, 0, 2], [1, 1, 1, 1, 0], [1, 1, 1, 1, 1], [1, 1, 1, 1, 2], [1, 1, 1, 2, 0], [1, 1, 1, 2, 1], [1, 1, 1, 2, 2], [1, 1, 2, 0, 0], [1, 1, 2, 0, 1], [1, 1, 2, 0, 2], [1, 1, 2, 1, 0], [1, 1, 2, 1, 1], [1, 1, 2, 1, 2], [1, 1, 2, 2, 0], [1, 1, 2, 2, 1], [1, 1, 2, 2, 2], [1, 2, 0, 0, 0], [1, 2, 0, 0, 1], [1, 2, 0, 0, 2], [1, 2, 0, 1, 0], [1, 2, 0, 1, 1], [1, 2, 0, 1, 2], [1, 2, 0, 2, 0], [1, 2, 0, 2, 1], [1, 2, 0, 2, 2], [1, 2, 1, 0, 0], [1, 2, 1, 0, 1], [1, 2, 1, 0, 2], [1, 2, 1, 1, 0], [1, 2, 1, 1, 1], [1, 2, 1, 1, 2], [1, 2, 1, 2, 0], [1, 2, 1, 2, 1], [1, 2, 1, 2, 2], [1, 2, 2, 0, 0], [1, 2, 2, 0, 1], [1, 2, 2, 0, 2], [1, 2, 2, 1, 0], [1, 2, 2, 1, 1], [1, 2, 2, 1, 2], [1, 2, 2, 2, 0], [1, 2, 2, 2, 1], [1, 2, 2, 2, 2], [2, 0, 0, 0, 0], [2, 0, 0, 0, 1], [2, 0, 0, 0, 2], [2, 0, 0, 1, 0], [2, 0, 0, 1, 1], [2, 0, 0, 1, 2], [2, 0, 0, 2, 0], [2, 0, 0, 2, 1], [2, 0, 0, 2, 2], [2, 0, 1, 0, 0], [2, 0, 1, 0, 1], [2, 0, 1, 0, 2], [2, 0, 1, 1, 0], [2, 0, 1, 1, 1], [2, 0, 1, 1, 2], [2, 0, 1, 2, 0], [2, 0, 1, 2, 1], [2, 0, 1, 2, 2], [2, 0, 2, 0, 0], [2, 0, 2, 0, 1], [2, 0, 2, 0, 2], [2, 0, 2, 1, 0], [2, 0, 2, 1, 1], [2, 0, 2, 1, 2], [2, 0, 2, 2, 0], [2, 0, 2, 2, 1], [2, 0, 2, 2, 2], [2, 1, 0, 0, 0], [2, 1, 0, 0, 1], [2, 1, 0, 0, 2], [2, 1, 0, 1, 0], [2, 1, 0, 1, 1], [2, 1, 0, 1, 2], [2, 1, 0, 2, 0], [2, 1, 0, 2, 1], [2, 1, 0, 2, 2], [2, 1, 1, 0, 0], [2, 1, 1, 0, 1], [2, 1, 1, 0, 2], [2, 1, 1, 1, 0], [2, 1, 1, 1, 1], [2, 1, 1, 1, 2], [2, 1, 1, 2, 0], [2, 1, 1, 2, 1], [2, 1, 1, 2, 2], [2, 1, 2, 0, 0], [2, 1, 2, 0, 1], [2, 1, 2, 0, 2], [2, 1, 2, 1, 0], [2, 1, 2, 1, 1], [2, 1, 2, 1, 2], [2, 1, 2, 2, 0], [2, 1, 2, 2, 1], [2, 1, 2, 2, 2], [2, 2, 0, 0, 0], [2, 2, 0, 0, 1], [2, 2, 0, 0, 2], [2, 2, 0, 1, 0], [2, 2, 0, 1, 1], [2, 2, 0, 1, 2], [2, 2, 0, 2, 0], [2, 2, 0, 2, 1], [2, 2, 0, 2, 2], [2, 2, 1, 0, 0], [2, 2, 1, 0, 1], [2, 2, 1, 0, 2], [2, 2, 1, 1, 0], [2, 2, 1, 1, 1], [2, 2, 1, 1, 2], [2, 2, 1, 2, 0], [2, 2, 1, 2, 1], [2, 2, 1, 2, 2], [2, 2, 2, 0, 0], [2, 2, 2, 0, 1], [2, 2, 2, 0, 2], [2, 2, 2, 1, 0], [2, 2, 2, 1, 1], [2, 2, 2, 1, 2], [2, 2, 2, 2, 0], [2, 2, 2, 2, 1], [2, 2, 2, 2, 2]]\n"
     ]
    }
   ],
   "source": [
    "import itertools\n",
    "\n",
    "def dec_to_ternary(num):  #2\n",
    "    quotient = num/3    #3\n",
    "    remainder = num%3\n",
    "    if quotient == 0:   #4\n",
    "        return \"\"\n",
    "    else:\n",
    "        return dec_to_ternary(int(quotient)) + str(int(remainder)) \n",
    "\n",
    "def gen_patterns():\n",
    "    '''\n",
    "    This functions generates all of the possible pattern combinations.\n",
    "    '''\n",
    "    patterns_ter = []\n",
    "    patterns_dec = [i for i in range(3**5)]\n",
    "    a = [dec_to_ternary(n) for n in patterns_dec]\n",
    "    a[0] = 0\n",
    "    patterns_ter = [int(i) for i in a]\n",
    "    return patterns_ter\n",
    "\n",
    "patterns = gen_patterns()\n",
    "pattern_grid = [ternary_to_list(pattern) for pattern in patterns]\n",
    "print(pattern_grid)"
   ]
  },
  {
   "cell_type": "code",
   "execution_count": 41,
   "metadata": {},
   "outputs": [
    {
     "name": "stdout",
     "output_type": "stream",
     "text": [
      "word: kefir\n",
      "entropy: 3.999801943859977\n"
     ]
    }
   ],
   "source": [
    "# Probabilities\n",
    "word_pool = words\n",
    "word = 'kefir'\n",
    "probabilities = []\n",
    "for pattern in pattern_grid:\n",
    "    a = reduce_word_pool(word_pool,word,pattern)\n",
    "    p = len(a)/len(word_pool)\n",
    "    if p == 0:\n",
    "        probabilities.append(0)\n",
    "    else:\n",
    "        i = -np.log2(p)\n",
    "        probabilities.append(p*i)\n",
    "#print(probabilities)\n",
    "entropy = np.sum(probabilities)\n",
    "print('word:',word )\n",
    "print('entropy:',entropy)"
   ]
  },
  {
   "cell_type": "code",
   "execution_count": 43,
   "metadata": {},
   "outputs": [
    {
     "ename": "KeyboardInterrupt",
     "evalue": "",
     "output_type": "error",
     "traceback": [
      "\u001b[0;31m---------------------------------------------------------------------------\u001b[0m",
      "\u001b[0;31mKeyboardInterrupt\u001b[0m                         Traceback (most recent call last)",
      "Input \u001b[0;32mIn [43]\u001b[0m, in \u001b[0;36m<module>\u001b[0;34m\u001b[0m\n\u001b[1;32m      4\u001b[0m probabilities \u001b[38;5;241m=\u001b[39m []\n\u001b[1;32m      5\u001b[0m \u001b[38;5;28;01mfor\u001b[39;00m pattern \u001b[38;5;129;01min\u001b[39;00m pattern_grid:\n\u001b[0;32m----> 6\u001b[0m     a \u001b[38;5;241m=\u001b[39m \u001b[43mreduce_word_pool\u001b[49m\u001b[43m(\u001b[49m\u001b[43mword_pool\u001b[49m\u001b[43m,\u001b[49m\u001b[43mword\u001b[49m\u001b[43m,\u001b[49m\u001b[43mpattern\u001b[49m\u001b[43m)\u001b[49m\n\u001b[1;32m      7\u001b[0m     p \u001b[38;5;241m=\u001b[39m \u001b[38;5;28mlen\u001b[39m(a)\u001b[38;5;241m/\u001b[39m\u001b[38;5;28mlen\u001b[39m(word_pool)\n\u001b[1;32m      8\u001b[0m     \u001b[38;5;28;01mif\u001b[39;00m p \u001b[38;5;241m==\u001b[39m \u001b[38;5;241m0\u001b[39m:\n",
      "Input \u001b[0;32mIn [15]\u001b[0m, in \u001b[0;36mreduce_word_pool\u001b[0;34m(wordlist, sel_word, pattern)\u001b[0m\n\u001b[1;32m     26\u001b[0m \u001b[38;5;28;01mfor\u001b[39;00m word \u001b[38;5;129;01min\u001b[39;00m wordlist:\n\u001b[1;32m     27\u001b[0m     char_list \u001b[38;5;241m=\u001b[39m ignore\n\u001b[0;32m---> 28\u001b[0m     match \u001b[38;5;241m=\u001b[39m [characters \u001b[38;5;129;01min\u001b[39;00m char_list \u001b[38;5;28;01mfor\u001b[39;00m characters \u001b[38;5;129;01min\u001b[39;00m word]\n\u001b[1;32m     29\u001b[0m     \u001b[38;5;28;01mif\u001b[39;00m \u001b[38;5;129;01mnot\u001b[39;00m \u001b[38;5;28many\u001b[39m(match):\n\u001b[1;32m     30\u001b[0m         \u001b[38;5;66;03m# Now we have words that do not contain gray letters\u001b[39;00m\n\u001b[1;32m     31\u001b[0m         correct_pos \u001b[38;5;241m=\u001b[39m [word[ind] \u001b[38;5;28;01mfor\u001b[39;00m ind \u001b[38;5;129;01min\u001b[39;00m ind_green]\n",
      "Input \u001b[0;32mIn [15]\u001b[0m, in \u001b[0;36m<listcomp>\u001b[0;34m(.0)\u001b[0m\n\u001b[1;32m     26\u001b[0m \u001b[38;5;28;01mfor\u001b[39;00m word \u001b[38;5;129;01min\u001b[39;00m wordlist:\n\u001b[1;32m     27\u001b[0m     char_list \u001b[38;5;241m=\u001b[39m ignore\n\u001b[0;32m---> 28\u001b[0m     match \u001b[38;5;241m=\u001b[39m [characters \u001b[38;5;129;01min\u001b[39;00m \u001b[43mchar_list\u001b[49m \u001b[38;5;28;01mfor\u001b[39;00m characters \u001b[38;5;129;01min\u001b[39;00m word]\n\u001b[1;32m     29\u001b[0m     \u001b[38;5;28;01mif\u001b[39;00m \u001b[38;5;129;01mnot\u001b[39;00m \u001b[38;5;28many\u001b[39m(match):\n\u001b[1;32m     30\u001b[0m         \u001b[38;5;66;03m# Now we have words that do not contain gray letters\u001b[39;00m\n\u001b[1;32m     31\u001b[0m         correct_pos \u001b[38;5;241m=\u001b[39m [word[ind] \u001b[38;5;28;01mfor\u001b[39;00m ind \u001b[38;5;129;01min\u001b[39;00m ind_green]\n",
      "\u001b[0;31mKeyboardInterrupt\u001b[0m: "
     ]
    }
   ],
   "source": [
    "word_pool = words\n",
    "word_entropies = {}\n",
    "for word in word_pool:\n",
    "    probabilities = []\n",
    "    for pattern in pattern_grid:\n",
    "        a = reduce_word_pool(word_pool,word,pattern)\n",
    "        p = len(a)/len(word_pool)\n",
    "        if p == 0:\n",
    "            probabilities.append(0)\n",
    "        else:\n",
    "            i = -np.log2(p)\n",
    "            probabilities.append(p*i)\n",
    "    entropy = np.sum(probabilities)\n",
    "    word_entropies[word]=entropy\n",
    "\n",
    "print(word_entropies)\n",
    "    "
   ]
  },
  {
   "cell_type": "code",
   "execution_count": 44,
   "metadata": {},
   "outputs": [
    {
     "name": "stdout",
     "output_type": "stream",
     "text": [
      "{'abaca': 2.3572725813218467, 'abaco': 3.8762935404237187, 'abada': 2.2476326962705704, 'abadi': 3.4270858275457368, 'abaja': 2.0517466837846072, 'abaje': 3.488383875103269, 'abajo': 3.4522109922145234, 'abano': 3.8771471071805963, 'abasi': 3.6184161519733458, 'abata': 2.3640088826513947, 'abate': 3.8958083155177734, 'abati': 3.5829083336410763, 'abato': 3.862921323661123, 'abece': 3.5027986627297514, 'abeja': 3.2772747060592535, 'abeto': 5.260585642010314, 'abiar': 3.6913877301015963, 'abiso': 5.208501333519654, 'abita': 3.5325618138735697, 'abite': 5.1876312102996005, 'abito': 5.169642498682284, 'aboba': 2.71841323878874, 'abobe': 4.136323239182972, 'abobo': 2.426269635199181, 'aboca': 3.5201012455768512, 'aboco': 3.2100167370149375, 'abofa': 3.1652873140200164, 'abofe': 4.742473179751767, 'abofo': 2.8604673991284413, 'aboga': 3.263204934842622, 'abogo': 2.950404509487691, 'abola': 3.6018327989329455, 'abole': 5.302447649989068, 'aboli': 4.944244045600285, 'abolo': 3.2986291443005418, 'abona': 3.5523455644278172, 'abone': 5.221153825787748, 'abono': 3.2619625431875106, 'aboya': 3.025266072937775, 'aboye': 4.54620808976642, 'aboyo': 2.70792343976734, 'abran': 3.7139443116152004, 'abras': 3.7001880941958043, 'abren': 5.403539413924866, 'abres': 5.45842909444843, 'abria': 3.8260580762725054, 'abrid': 4.879848729519461, 'abril': 5.088846903519033, 'abrio': 5.518902262110099, 'abrir': 3.659877775856358, 'abris': 5.216803915969219, 'absit': 4.714316302743324, 'abuce': 5.020324223583968, 'abuje': 4.561866415723462, 'abura': 3.563341657669359, 'abure': 5.264046075225634, 'aburo': 5.207706660082286, 'abusa': 3.407523870939991, 'abuse': 5.043915502821718, 'abuso': 4.982929379685663, 'abuza': 2.9518535788466, 'abuzo': 4.423819227688451, 'acaba': 2.32077766011037, 'acabe': 3.851447429103196, 'acabo': 3.8172023397668973, 'acama': 2.38745029489448, 'acame': 3.950562257284086, 'acamo': 3.915736175496632, 'acana': 2.5429451160369942, 'acara': 2.6720682251027297, 'acare': 4.332259314903852, 'acaro': 4.298754259036575, 'acaso': 4.100000177981377, 'acata': 2.514153048366856, 'acate': 4.098736768661599, 'acato': 4.0677773096436844}\n"
     ]
    }
   ],
   "source": [
    "print(word_entropies)"
   ]
  }
 ],
 "metadata": {
  "interpreter": {
   "hash": "262a9e02d8a90539bc70f17660693948acd636a2bd8af6bebc2e3d24d9774a4b"
  },
  "kernelspec": {
   "display_name": "Python 3 (ipykernel)",
   "language": "python",
   "name": "python3"
  },
  "language_info": {
   "codemirror_mode": {
    "name": "ipython",
    "version": 3
   },
   "file_extension": ".py",
   "mimetype": "text/x-python",
   "name": "python",
   "nbconvert_exporter": "python",
   "pygments_lexer": "ipython3",
   "version": "3.8.12"
  }
 },
 "nbformat": 4,
 "nbformat_minor": 4
}
