{
 "cells": [
  {
   "cell_type": "markdown",
   "metadata": {},
   "source": [
    "# Data preprocessing\n",
    "Cleaning data by removing \\n characters, then we perform NFD transformation to separate diacritics from the simple characters (except ~) and go back to NFC ([source here](https://es.stackoverflow.com/questions/135707/c%C3%B3mo-puedo-reemplazar-las-letras-con-tildes-por-las-mismas-sin-tilde-pero-no-l)). This way we converted all characters with diacritics to the simple character. Finally, 5-letter words are saved in a list.\n",
    "\n",
    "## Letter frequency visualization\n",
    "Counter object from colletions is used to count the frequency of each letter. Then, a histogram is used to visualize these values."
   ]
  },
  {
   "cell_type": "code",
   "execution_count": 1,
   "metadata": {},
   "outputs": [
    {
     "name": "stdout",
     "output_type": "stream",
     "text": [
      "Counter({'a': 10730, 'e': 6850, 'o': 6194, 'r': 4417, 'i': 3912, 'l': 3262, 's': 3218, 'n': 2919, 'c': 2781, 'u': 2621, 't': 2462, 'p': 1982, 'm': 1867, 'd': 1775, 'b': 1462, 'g': 1245, 'f': 926, 'h': 914, 'j': 882, 'v': 846, 'z': 697, 'ñ': 416, 'y': 370, 'x': 135, 'q': 130, 'k': 46, 'w': 8})\n",
      "12614\n"
     ]
    },
    {
     "data": {
      "image/png": "[encoded data removed]",
      "text/plain": [
       "<Figure size 432x288 with 1 Axes>"
      ]
     },
     "metadata": {
      "needs_background": "light"
     },
     "output_type": "display_data"
    }
   ],
   "source": [
    "from collections import Counter\n",
    "import re\n",
    "from unicodedata import normalize\n",
    "import matplotlib.pyplot as plt\n",
    "\n",
    "data = open('0_palabras_todas.txt', encoding=\"utf8\")\n",
    "count = 0\n",
    "words = []\n",
    "chars = Counter()\n",
    "\n",
    "while True:\n",
    "    count +=1\n",
    "    line = data.readline()\n",
    "    line = line[:-1]\n",
    "\n",
    "    if not line:\n",
    "        break\n",
    "    \n",
    "    if (len(line) == 5):\n",
    "        # -> NFD y eliminar diacríticos\n",
    "        line = re.sub(\n",
    "        r\"([^n\\u0300-\\u036f]|n(?!\\u0303(?![\\u0300-\\u036f])))[\\u0300-\\u036f]+\", r\"\\1\", \n",
    "        normalize( \"NFD\", line), 0, re.I\n",
    "    )\n",
    "\n",
    "        # -> NFC\n",
    "        line = normalize( 'NFC', line)\n",
    "        words.append(line)\n",
    "        chars.update(Counter(line))\n",
    "\n",
    "\n",
    "chars.pop('O')\n",
    "chars.pop('(')\n",
    "chars.pop(' ')\n",
    "print(chars)\n",
    "print(len(words))\n",
    "data.close()\n",
    "plt.bar(list(chars.keys()), chars.values(), color='g')\n",
    "plt.ylabel('Ocurrencias')\n",
    "plt.show()\n",
    "\n",
    "# get frequency\n",
    "#https://es.stackoverflow.com/questions/135707/c%C3%B3mo-puedo-reemplazar-las-letras-con-tildes-por-las-mismas-sin-tilde-pero-no-l"
   ]
  },
  {
   "cell_type": "code",
   "execution_count": 3,
   "metadata": {},
   "outputs": [
    {
     "name": "stdout",
     "output_type": "stream",
     "text": [
      "['fiero', 'lloro']\n"
     ]
    }
   ],
   "source": [
    "import numpy as np\n",
    "variations = 3^5\n",
    "\n",
    "    \n",
    "def prob(n_words, seq):\n",
    "    \"\"\"\n",
    "    A pattern for two words represents the worle-similarity\n",
    "    pattern (gray -> 0, yellow -> 1, green -> 2) but as an integer\n",
    "    between 0 and 3^5. Reading this integer in ternary gives the\n",
    "    associated pattern.\n",
    "    \"\"\"\n",
    "    pass\n",
    "    #return entropy(seq, base=2)\n",
    "\n",
    "def remove_at(i, s):\n",
    "    return s[:i] + s[i+1:]\n",
    "\n",
    "def guess(wordlist, sel_word, pattern):\n",
    "    '''\n",
    "    Given a word and its pattern, reduce the list of possible words given that pattern.\n",
    "    '''\n",
    "    # First, we extract the ternary info from the word and the pattern, to see which letter we will ignore, etc..\n",
    "    # Getting indeces:\n",
    "    ind_gray = [i for i,x in enumerate(pattern) if x==0]\n",
    "    ind_yellow = [i for i,x in enumerate(pattern) if x==1]\n",
    "    ind_green = [i for i,x in enumerate(pattern) if x==2]\n",
    "\n",
    "    ignore = [sel_word[ind] for ind in ind_gray]\n",
    "    present = [sel_word[ind] for ind in ind_yellow]\n",
    "    correct = [sel_word[ind] for ind in ind_green]\n",
    "    # ignore contains letters that are gray (we don't need the index)\n",
    "    # present contains letters that are yellow (we will need to use also the index, maybe tuple or dict)\n",
    "    # correct contains letters that are green (we will need to use also the index, maybe tuple or dict)\n",
    "\n",
    "    # Loop\n",
    "    new_wordlist = []\n",
    "    for word in wordlist:\n",
    "        char_list = ignore\n",
    "        match = [characters in char_list for characters in word]\n",
    "        if not any(match):\n",
    "            # Now we have words that do not contain gray letters\n",
    "            correct_pos = [word[ind] for ind in ind_green]\n",
    "            if correct_pos == correct:\n",
    "                # Now we have words that have green chars in the respective position\n",
    "                # Pick the word, remove the char in the index pos of yellow and check if exists in the other chars\n",
    "                c = 0\n",
    "                for l in ind_yellow:\n",
    "                    temp = remove_at(l,word)\n",
    "                    match = [e for e in present if e in temp]\n",
    "                    if any(match):\n",
    "                        c += 1\n",
    "\n",
    "                if c == len(present):\n",
    "                    # Now we have yellow words also\n",
    "                    new_wordlist.append(word)\n",
    "\n",
    "    return new_wordlist\n",
    "\n",
    "wordlist = ['cajon', 'casal', 'finca', 'helio','jabon', 'fusil', 'cebra', 'horno', 'fiero', 'lloro']\n",
    "\n",
    "a = guess(wordlist, 'barco', [0,0,1,0,2])\n",
    "print(a)"
   ]
  },
  {
   "cell_type": "code",
   "execution_count": 8,
   "metadata": {},
   "outputs": [
    {
     "name": "stdout",
     "output_type": "stream",
     "text": [
      "['jeliz', 'jemer', 'jeque', 'jerez', 'jetee', 'jetee', 'jigue', 'jimes', 'jiñes', 'jipie', 'jipie', 'jirel', 'juete', 'jugue', 'jumee', 'jumee', 'jumes', 'jumil', 'juñir', 'jupee', 'jupee', 'jurel', 'jures', 'juste', 'juste']\n",
      "25\n"
     ]
    }
   ],
   "source": [
    "wordlist = words\n",
    "guess_word = 'jabon'\n",
    "pattern = [2,0,0,0,0]\n",
    "\n",
    "wordlist = guess(wordlist, guess_word, pattern)\n",
    "print(wordlist)\n",
    "print(len(wordlist))"
   ]
  },
  {
   "cell_type": "markdown",
   "metadata": {},
   "source": [
    "## Computing probabilities\n",
    "There are $3^5$ possible patterns, as there are only 3 states and 5 squares."
   ]
  },
  {
   "cell_type": "code",
   "execution_count": 15,
   "metadata": {},
   "outputs": [
    {
     "name": "stdout",
     "output_type": "stream",
     "text": [
      "<itertools.combinations object at 0x0000021631D42C78>\n"
     ]
    }
   ],
   "source": [
    "import itertools\n",
    "\n",
    "def gen_patterns(states,squares):\n",
    "    '''\n",
    "    This functions generates all of the possible pattern combinations.\n",
    "    '''\n",
    "    l = [i for i in range(states)]\n",
    "\n",
    "    # for L in range(0, len(l)):\n",
    "    #     itertools.combinations(L,squares)\n",
    "    return itertools.combinations(l,squares)\n",
    "\n",
    "a = gen_patterns(3,5)\n",
    "for elem in a:\n",
    "    print(elem)\n"
   ]
  }
 ],
 "metadata": {
  "interpreter": {
   "hash": "262a9e02d8a90539bc70f17660693948acd636a2bd8af6bebc2e3d24d9774a4b"
  },
  "kernelspec": {
   "display_name": "Python 3.7.4 64-bit ('wordle': conda)",
   "name": "python3"
  },
  "language_info": {
   "codemirror_mode": {
    "name": "ipython",
    "version": 3
   },
   "file_extension": ".py",
   "mimetype": "text/x-python",
   "name": "python",
   "nbconvert_exporter": "python",
   "pygments_lexer": "ipython3",
   "version": "3.7.4"
  },
  "orig_nbformat": 4
 },
 "nbformat": 4,
 "nbformat_minor": 2
}
