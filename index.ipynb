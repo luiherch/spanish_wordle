{
 "cells": [
  {
   "cell_type": "markdown",
   "metadata": {},
   "source": [
    "# Data preprocessing\n",
    "Cleaning data by removing \\n characters, then we perform NFD transformation to separate diacritics from the simple characters (except ~) and go back to NFC ([source here](https://es.stackoverflow.com/questions/135707/c%C3%B3mo-puedo-reemplazar-las-letras-con-tildes-por-las-mismas-sin-tilde-pero-no-l)). This way we converted all characters with diacritics to the simple character. Finally, 5-letter words are saved in a list.\n",
    "\n",
    "## Letter frequency visualization\n",
    "Counter object from colletions is used to count the frequency of each letter. Then, a histogram is used to visualize these values."
   ]
  },
  {
   "cell_type": "code",
   "execution_count": 1,
   "metadata": {},
   "outputs": [
    {
     "name": "stdout",
     "output_type": "stream",
     "text": [
      "Counter({'a': 10730, 'e': 6850, 'o': 6194, 'r': 4417, 'i': 3912, 'l': 3262, 's': 3218, 'n': 2919, 'c': 2781, 'u': 2621, 't': 2462, 'p': 1982, 'm': 1867, 'd': 1775, 'b': 1462, 'g': 1245, 'f': 926, 'h': 914, 'j': 882, 'v': 846, 'z': 697, 'ñ': 416, 'y': 370, 'x': 135, 'q': 130, 'k': 46, 'w': 8})\n",
      "12614\n"
     ]
    },
    {
     "data": {
      "image/png": "[encoded data removed]",
      "text/plain": [
       "<Figure size 432x288 with 1 Axes>"
      ]
     },
     "metadata": {
      "needs_background": "light"
     },
     "output_type": "display_data"
    }
   ],
   "source": [
    "from collections import Counter\n",
    "import re\n",
    "from unicodedata import normalize\n",
    "import matplotlib.pyplot as plt\n",
    "\n",
    "data = open('0_palabras_todas.txt', encoding=\"utf8\")\n",
    "count = 0\n",
    "words = []\n",
    "chars = Counter()\n",
    "\n",
    "while True:\n",
    "    count +=1\n",
    "    line = data.readline()\n",
    "    line = line[:-1]\n",
    "\n",
    "    if not line:\n",
    "        break\n",
    "\n",
    "    if (len(line) == 5):\n",
    "        # -> NFD y eliminar diacríticos\n",
    "        line = re.sub(\n",
    "        r\"([^n\\u0300-\\u036f]|n(?!\\u0303(?![\\u0300-\\u036f])))[\\u0300-\\u036f]+\", r\"\\1\", \n",
    "        normalize( \"NFD\", line), 0, re.I\n",
    "    )\n",
    "\n",
    "        # -> NFC\n",
    "        line = normalize('NFC', line)\n",
    "        words.append(line)\n",
    "        chars.update(Counter(line))\n",
    "\n",
    "\n",
    "chars.pop('O')\n",
    "chars.pop('(')\n",
    "chars.pop(' ')\n",
    "print(chars)\n",
    "print(len(words))\n",
    "data.close()\n",
    "plt.bar(list(chars.keys()), chars.values(), color='g')\n",
    "plt.ylabel('Ocurrencias')\n",
    "plt.show()\n",
    "\n",
    "# get frequency\n",
    "#https://es.stackoverflow.com/questions/135707/c%C3%B3mo-puedo-reemplazar-las-letras-con-tildes-por-las-mismas-sin-tilde-pero-no-l"
   ]
  },
  {
   "cell_type": "code",
   "execution_count": 77,
   "metadata": {},
   "outputs": [
    {
     "name": "stdout",
     "output_type": "stream",
     "text": [
      "['r', 'c']\n",
      "['c', 'r']\n",
      "[]\n",
      "la lista esta vacia: []\n",
      "[True]\n",
      "[True]\n",
      "['bicro']\n"
     ]
    }
   ],
   "source": [
    "import numpy as np\n",
    "\n",
    "def remove_at(i, s):\n",
    "    return s[:i] + s[i+1:]\n",
    "\n",
    "def reduce_word_pool(wordlist, sel_word, pattern):\n",
    "    '''\n",
    "    Given a word and its pattern, reduce the list of possible words given that pattern.\n",
    "    '''\n",
    "    # First, we extract the ternary info from the word and the pattern, to see which letter we will ignore, etc..\n",
    "    # Getting indeces:\n",
    "    ind_gray = [i for i,x in enumerate(pattern) if x==0]\n",
    "    ind_yellow = [i for i,x in enumerate(pattern) if x==1]\n",
    "    ind_green = [i for i,x in enumerate(pattern) if x==2]\n",
    "    ind_gray_yellow = [i for i,x in enumerate(pattern) if x==0 or x ==1]\n",
    "\n",
    "    ignore = [sel_word[ind] for ind in ind_gray]\n",
    "    present = [sel_word[ind] for ind in ind_yellow]\n",
    "    correct = [sel_word[ind] for ind in ind_green]\n",
    "    # ignore contains letters that are gray (we don't need the index)\n",
    "    # present contains letters that are yellow (we will need to use also the index, maybe tuple or dict)\n",
    "    # correct contains letters that are green (we will need to use also the index, maybe tuple or dict)\n",
    "\n",
    "    # Loop\n",
    "    new_wordlist = []\n",
    "    for word in wordlist:\n",
    "        char_list = ignore\n",
    "        match = [characters in char_list for characters in word]\n",
    "        if not any(match):\n",
    "            # Now we have words that do not contain gray letters\n",
    "            correct_pos = [word[ind] for ind in ind_green]\n",
    "            if correct_pos == correct:\n",
    "                # # Now we have words that have green chars in the respective position\n",
    "                # # Pick the word, remove the char in the index pos of yellow and check if exists in the other chars\n",
    "                \n",
    "                # Second approach:\n",
    "                # First check that yellow words are not in yellow positions\n",
    "                present_pos = [word[ind] for ind in ind_yellow]\n",
    "                match = [i for i, j in zip(present, present_pos) if i == j]\n",
    "                print(present)\n",
    "                print(present_pos)\n",
    "                print(match)\n",
    "                if not match:\n",
    "                    # Now we are sure that there are no correct yellow words\n",
    "                    # Now check that all the yellow letters appear in the other positions\n",
    "                    print('la lista esta vacia:', match)\n",
    "                    to_check = [word[ind] for ind in ind_gray_yellow]\n",
    "                    flag = []\n",
    "                    flag2 = 0\n",
    "                    for elem in present:\n",
    "                        for i in to_check:\n",
    "                            if elem == i:\n",
    "                                flag.append(True)\n",
    "                        print(flag)\n",
    "                        if not any(flag):\n",
    "                            break\n",
    "                        else:\n",
    "                            flag = []\n",
    "                            flag2 += 1\n",
    "                    if len(present) == flag2:\n",
    "                        new_wordlist.append(word)\n",
    "                else:\n",
    "                    print('la lista contiene elementos:', match)\n",
    "\n",
    "    return new_wordlist\n",
    "\n",
    "wordlist = ['cebra','hijos','realp', '12345', 'bicro']\n",
    "\n",
    "a = reduce_word_pool(wordlist, 'barco', [2,0,1,1,2])\n",
    "print(a)"
   ]
  },
  {
   "cell_type": "code",
   "execution_count": 79,
   "metadata": {},
   "outputs": [
    {
     "name": "stdout",
     "output_type": "stream",
     "text": [
      "[]\n",
      "[]\n",
      "[]\n",
      "la lista esta vacia: []\n",
      "[]\n",
      "[]\n",
      "[]\n",
      "la lista esta vacia: []\n",
      "[]\n",
      "[]\n",
      "[]\n",
      "la lista esta vacia: []\n",
      "[]\n",
      "[]\n",
      "[]\n",
      "la lista esta vacia: []\n",
      "[]\n",
      "[]\n",
      "[]\n",
      "la lista esta vacia: []\n",
      "[]\n",
      "[]\n",
      "[]\n",
      "la lista esta vacia: []\n",
      "[]\n",
      "[]\n",
      "[]\n",
      "la lista esta vacia: []\n",
      "[]\n",
      "[]\n",
      "[]\n",
      "la lista esta vacia: []\n",
      "[]\n",
      "[]\n",
      "[]\n",
      "la lista esta vacia: []\n",
      "[]\n",
      "[]\n",
      "[]\n",
      "la lista esta vacia: []\n",
      "[]\n",
      "[]\n",
      "[]\n",
      "la lista esta vacia: []\n",
      "[]\n",
      "[]\n",
      "[]\n",
      "la lista esta vacia: []\n",
      "[]\n",
      "[]\n",
      "[]\n",
      "la lista esta vacia: []\n",
      "[]\n",
      "[]\n",
      "[]\n",
      "la lista esta vacia: []\n",
      "[]\n",
      "[]\n",
      "[]\n",
      "la lista esta vacia: []\n",
      "[]\n",
      "[]\n",
      "[]\n",
      "la lista esta vacia: []\n",
      "[]\n",
      "[]\n",
      "[]\n",
      "la lista esta vacia: []\n",
      "[]\n",
      "[]\n",
      "[]\n",
      "la lista esta vacia: []\n",
      "[]\n",
      "[]\n",
      "[]\n",
      "la lista esta vacia: []\n",
      "[]\n",
      "[]\n",
      "[]\n",
      "la lista esta vacia: []\n",
      "[]\n",
      "[]\n",
      "[]\n",
      "la lista esta vacia: []\n",
      "[]\n",
      "[]\n",
      "[]\n",
      "la lista esta vacia: []\n",
      "[]\n",
      "[]\n",
      "[]\n",
      "la lista esta vacia: []\n",
      "[]\n",
      "[]\n",
      "[]\n",
      "la lista esta vacia: []\n",
      "[]\n",
      "[]\n",
      "[]\n",
      "la lista esta vacia: []\n",
      "['jeliz', 'jemer', 'jeque', 'jerez', 'jetee', 'jetee', 'jigue', 'jimes', 'jiñes', 'jipie', 'jipie', 'jirel', 'juete', 'jugue', 'jumee', 'jumee', 'jumes', 'jumil', 'juñir', 'jupee', 'jupee', 'jurel', 'jures', 'juste', 'juste']\n",
      "25\n"
     ]
    }
   ],
   "source": [
    "wordlist = words\n",
    "guess_word = 'jabon'\n",
    "pattern = [2,0,0,0,0]\n",
    "\n",
    "wordlist = reduce_word_pool(wordlist, guess_word, pattern)\n",
    "print(wordlist)\n",
    "print(len(wordlist))"
   ]
  },
  {
   "cell_type": "code",
   "execution_count": 4,
   "metadata": {},
   "outputs": [],
   "source": [
    "def ternary_to_list(number):\n",
    "    res = [0,0,0,0,0]\n",
    "    len_number = len(str(number))\n",
    "    for i in range(len_number): res[4-i] = int(str(number)[len_number-1-i]) \n",
    "    return res\n",
    "\n",
    "def list_to_ternary(number):\n",
    "    res = \"\"\n",
    "    for i in range(len(number)): res += str(number[i])\n",
    "    return int(res)"
   ]
  },
  {
   "cell_type": "code",
   "execution_count": 5,
   "metadata": {},
   "outputs": [
    {
     "data": {
      "text/plain": [
       "102"
      ]
     },
     "execution_count": 5,
     "metadata": {},
     "output_type": "execute_result"
    }
   ],
   "source": [
    "list_to_ternary([0,0,1,0,2])"
   ]
  },
  {
   "cell_type": "code",
   "execution_count": 6,
   "metadata": {},
   "outputs": [
    {
     "data": {
      "text/plain": [
       "[0, 0, 1, 0, 2]"
      ]
     },
     "execution_count": 6,
     "metadata": {},
     "output_type": "execute_result"
    }
   ],
   "source": [
    "ternary_to_list(102)"
   ]
  },
  {
   "cell_type": "markdown",
   "metadata": {},
   "source": [
    "## Computing probabilities\n",
    "There are $3^5$ possible patterns, as there are only 3 states and 5 squares."
   ]
  },
  {
   "cell_type": "code",
   "execution_count": 7,
   "metadata": {},
   "outputs": [
    {
     "name": "stdout",
     "output_type": "stream",
     "text": [
      "[[0, 0, 0, 0, 0], [0, 0, 0, 0, 1], [0, 0, 0, 0, 2], [0, 0, 0, 1, 0], [0, 0, 0, 1, 1], [0, 0, 0, 1, 2], [0, 0, 0, 2, 0], [0, 0, 0, 2, 1], [0, 0, 0, 2, 2], [0, 0, 1, 0, 0], [0, 0, 1, 0, 1], [0, 0, 1, 0, 2], [0, 0, 1, 1, 0], [0, 0, 1, 1, 1], [0, 0, 1, 1, 2], [0, 0, 1, 2, 0], [0, 0, 1, 2, 1], [0, 0, 1, 2, 2], [0, 0, 2, 0, 0], [0, 0, 2, 0, 1], [0, 0, 2, 0, 2], [0, 0, 2, 1, 0], [0, 0, 2, 1, 1], [0, 0, 2, 1, 2], [0, 0, 2, 2, 0], [0, 0, 2, 2, 1], [0, 0, 2, 2, 2], [0, 1, 0, 0, 0], [0, 1, 0, 0, 1], [0, 1, 0, 0, 2], [0, 1, 0, 1, 0], [0, 1, 0, 1, 1], [0, 1, 0, 1, 2], [0, 1, 0, 2, 0], [0, 1, 0, 2, 1], [0, 1, 0, 2, 2], [0, 1, 1, 0, 0], [0, 1, 1, 0, 1], [0, 1, 1, 0, 2], [0, 1, 1, 1, 0], [0, 1, 1, 1, 1], [0, 1, 1, 1, 2], [0, 1, 1, 2, 0], [0, 1, 1, 2, 1], [0, 1, 1, 2, 2], [0, 1, 2, 0, 0], [0, 1, 2, 0, 1], [0, 1, 2, 0, 2], [0, 1, 2, 1, 0], [0, 1, 2, 1, 1], [0, 1, 2, 1, 2], [0, 1, 2, 2, 0], [0, 1, 2, 2, 1], [0, 1, 2, 2, 2], [0, 2, 0, 0, 0], [0, 2, 0, 0, 1], [0, 2, 0, 0, 2], [0, 2, 0, 1, 0], [0, 2, 0, 1, 1], [0, 2, 0, 1, 2], [0, 2, 0, 2, 0], [0, 2, 0, 2, 1], [0, 2, 0, 2, 2], [0, 2, 1, 0, 0], [0, 2, 1, 0, 1], [0, 2, 1, 0, 2], [0, 2, 1, 1, 0], [0, 2, 1, 1, 1], [0, 2, 1, 1, 2], [0, 2, 1, 2, 0], [0, 2, 1, 2, 1], [0, 2, 1, 2, 2], [0, 2, 2, 0, 0], [0, 2, 2, 0, 1], [0, 2, 2, 0, 2], [0, 2, 2, 1, 0], [0, 2, 2, 1, 1], [0, 2, 2, 1, 2], [0, 2, 2, 2, 0], [0, 2, 2, 2, 1], [0, 2, 2, 2, 2], [1, 0, 0, 0, 0], [1, 0, 0, 0, 1], [1, 0, 0, 0, 2], [1, 0, 0, 1, 0], [1, 0, 0, 1, 1], [1, 0, 0, 1, 2], [1, 0, 0, 2, 0], [1, 0, 0, 2, 1], [1, 0, 0, 2, 2], [1, 0, 1, 0, 0], [1, 0, 1, 0, 1], [1, 0, 1, 0, 2], [1, 0, 1, 1, 0], [1, 0, 1, 1, 1], [1, 0, 1, 1, 2], [1, 0, 1, 2, 0], [1, 0, 1, 2, 1], [1, 0, 1, 2, 2], [1, 0, 2, 0, 0], [1, 0, 2, 0, 1], [1, 0, 2, 0, 2], [1, 0, 2, 1, 0], [1, 0, 2, 1, 1], [1, 0, 2, 1, 2], [1, 0, 2, 2, 0], [1, 0, 2, 2, 1], [1, 0, 2, 2, 2], [1, 1, 0, 0, 0], [1, 1, 0, 0, 1], [1, 1, 0, 0, 2], [1, 1, 0, 1, 0], [1, 1, 0, 1, 1], [1, 1, 0, 1, 2], [1, 1, 0, 2, 0], [1, 1, 0, 2, 1], [1, 1, 0, 2, 2], [1, 1, 1, 0, 0], [1, 1, 1, 0, 1], [1, 1, 1, 0, 2], [1, 1, 1, 1, 0], [1, 1, 1, 1, 1], [1, 1, 1, 1, 2], [1, 1, 1, 2, 0], [1, 1, 1, 2, 1], [1, 1, 1, 2, 2], [1, 1, 2, 0, 0], [1, 1, 2, 0, 1], [1, 1, 2, 0, 2], [1, 1, 2, 1, 0], [1, 1, 2, 1, 1], [1, 1, 2, 1, 2], [1, 1, 2, 2, 0], [1, 1, 2, 2, 1], [1, 1, 2, 2, 2], [1, 2, 0, 0, 0], [1, 2, 0, 0, 1], [1, 2, 0, 0, 2], [1, 2, 0, 1, 0], [1, 2, 0, 1, 1], [1, 2, 0, 1, 2], [1, 2, 0, 2, 0], [1, 2, 0, 2, 1], [1, 2, 0, 2, 2], [1, 2, 1, 0, 0], [1, 2, 1, 0, 1], [1, 2, 1, 0, 2], [1, 2, 1, 1, 0], [1, 2, 1, 1, 1], [1, 2, 1, 1, 2], [1, 2, 1, 2, 0], [1, 2, 1, 2, 1], [1, 2, 1, 2, 2], [1, 2, 2, 0, 0], [1, 2, 2, 0, 1], [1, 2, 2, 0, 2], [1, 2, 2, 1, 0], [1, 2, 2, 1, 1], [1, 2, 2, 1, 2], [1, 2, 2, 2, 0], [1, 2, 2, 2, 1], [1, 2, 2, 2, 2], [2, 0, 0, 0, 0], [2, 0, 0, 0, 1], [2, 0, 0, 0, 2], [2, 0, 0, 1, 0], [2, 0, 0, 1, 1], [2, 0, 0, 1, 2], [2, 0, 0, 2, 0], [2, 0, 0, 2, 1], [2, 0, 0, 2, 2], [2, 0, 1, 0, 0], [2, 0, 1, 0, 1], [2, 0, 1, 0, 2], [2, 0, 1, 1, 0], [2, 0, 1, 1, 1], [2, 0, 1, 1, 2], [2, 0, 1, 2, 0], [2, 0, 1, 2, 1], [2, 0, 1, 2, 2], [2, 0, 2, 0, 0], [2, 0, 2, 0, 1], [2, 0, 2, 0, 2], [2, 0, 2, 1, 0], [2, 0, 2, 1, 1], [2, 0, 2, 1, 2], [2, 0, 2, 2, 0], [2, 0, 2, 2, 1], [2, 0, 2, 2, 2], [2, 1, 0, 0, 0], [2, 1, 0, 0, 1], [2, 1, 0, 0, 2], [2, 1, 0, 1, 0], [2, 1, 0, 1, 1], [2, 1, 0, 1, 2], [2, 1, 0, 2, 0], [2, 1, 0, 2, 1], [2, 1, 0, 2, 2], [2, 1, 1, 0, 0], [2, 1, 1, 0, 1], [2, 1, 1, 0, 2], [2, 1, 1, 1, 0], [2, 1, 1, 1, 1], [2, 1, 1, 1, 2], [2, 1, 1, 2, 0], [2, 1, 1, 2, 1], [2, 1, 1, 2, 2], [2, 1, 2, 0, 0], [2, 1, 2, 0, 1], [2, 1, 2, 0, 2], [2, 1, 2, 1, 0], [2, 1, 2, 1, 1], [2, 1, 2, 1, 2], [2, 1, 2, 2, 0], [2, 1, 2, 2, 1], [2, 1, 2, 2, 2], [2, 2, 0, 0, 0], [2, 2, 0, 0, 1], [2, 2, 0, 0, 2], [2, 2, 0, 1, 0], [2, 2, 0, 1, 1], [2, 2, 0, 1, 2], [2, 2, 0, 2, 0], [2, 2, 0, 2, 1], [2, 2, 0, 2, 2], [2, 2, 1, 0, 0], [2, 2, 1, 0, 1], [2, 2, 1, 0, 2], [2, 2, 1, 1, 0], [2, 2, 1, 1, 1], [2, 2, 1, 1, 2], [2, 2, 1, 2, 0], [2, 2, 1, 2, 1], [2, 2, 1, 2, 2], [2, 2, 2, 0, 0], [2, 2, 2, 0, 1], [2, 2, 2, 0, 2], [2, 2, 2, 1, 0], [2, 2, 2, 1, 1], [2, 2, 2, 1, 2], [2, 2, 2, 2, 0], [2, 2, 2, 2, 1], [2, 2, 2, 2, 2]]\n"
     ]
    }
   ],
   "source": [
    "import itertools\n",
    "\n",
    "def dec_to_ternary(num):  #2\n",
    "    quotient = num/3    #3\n",
    "    remainder = num%3\n",
    "    if quotient == 0:   #4\n",
    "        return \"\"\n",
    "    else:\n",
    "        return dec_to_ternary(int(quotient)) + str(int(remainder)) \n",
    "\n",
    "def gen_patterns():\n",
    "    '''\n",
    "    This functions generates all of the possible pattern combinations.\n",
    "    '''\n",
    "    patterns_ter = []\n",
    "    patterns_dec = [i for i in range(3**5)]\n",
    "    a = [dec_to_ternary(n) for n in patterns_dec]\n",
    "    a[0] = 0\n",
    "    patterns_ter = [int(i) for i in a]\n",
    "    return patterns_ter\n",
    "\n",
    "patterns = gen_patterns()\n",
    "pattern_grid = [ternary_to_list(pattern) for pattern in patterns]\n",
    "print(pattern_grid)"
   ]
  },
  {
   "cell_type": "code",
   "execution_count": 8,
   "metadata": {},
   "outputs": [
    {
     "name": "stdout",
     "output_type": "stream",
     "text": [
      "[0.03765657206278738, 0.02933248771206596, 0.004201680672268907, 0.05406690978278104, 0.11407959410179166, 0.003329633740288568, 0.029491041699698746, 0.007293483431108292, 0.003329633740288568, 0.008006976375455842, 0.03250356746472174, 0.0003963849690819724, 0.09172348184556842, 0.15831615665133977, 0.004360234659901697, 0.01609322974472808, 0.013952750911685428, 0.00023783098144918344, 0.006104328523862375, 0.0010306009196131283, 0.0003963849690819724, 0.00776914539400666, 0.007848422387823054, 7.927699381639449e-05, 0.00531155858569843, 0.0006342159505311559, 0.00015855398763278897, 0.11756778182971302, 0.2069129538607896, 0.01752021563342318, 0.2341842397336293, 0.40677025527192007, 0.01379419692405264, 0.015855398763278898, 0.02489297605834787, 0.00015855398763278897, 0.1821785317900745, 0.28809259552877753, 0.021325511336610117, 0.36475344854923103, 0.5753131441255748, 0.019739971460282228, 0.043443792611384174, 0.0459806564135088, 0.0004756619628983669, 0.013159980973521484, 0.013001426985888695, 0.0017440938639606786, 0.024020929126367527, 0.024972253052164262, 0.0014269858886951008, 0.0015855398763278896, 0.00229903282067544, 0.0, 0.04304740764230221, 0.023228159188203583, 0.00618360551767877, 0.01379419692405264, 0.0416996987474235, 0.0, 0.022356112256223245, 0.006025051530045981, 0.0010306009196131283, 0.015141905818931347, 0.022356112256223245, 0.0004756619628983669, 0.038370065007134926, 0.052402092912636755, 0.0007134929443475504, 0.006421436499127953, 0.007452037418741082, 7.927699381639449e-05, 0.006817821468209926, 0.0014269858886951008, 0.0006342159505311559, 0.0015062628825114953, 0.002933248771206596, 0.0, 0.0025368638021246235, 0.0007134929443475504, 0.00015855398763278897, 0.016885999682892026, 0.04352306960520057, 0.0004756619628983669, 0.09838274932614555, 0.1641033771999366, 0.004280957666085302, 0.006976375455842714, 0.01236721103535754, 0.00015855398763278897, 0.021087680355160933, 0.042888853654669414, 0.00015855398763278897, 0.13976534009830346, 0.21277945140320279, 0.004677342635167275, 0.020612018392262565, 0.017044553670524813, 0.00023783098144918344, 0.0007134929443475504, 0.00031710797526557794, 0.0, 0.009592516251783732, 0.008403361344537815, 7.927699381639449e-05, 0.00015855398763278897, 7.927699381639449e-05, 0.0, 0.18471539559219916, 0.28753765657206276, 0.022276835262406848, 0.36736958934517205, 0.569129538607896, 0.02021563342318059, 0.03282067543998732, 0.041620421753607105, 0.0005549389567147614, 0.26224829554463297, 0.38298715712700176, 0.025765022990328207, 0.5267956239099413, 0.7689868400190265, 0.02600285397177739, 0.06088473125099096, 0.06389725701601395, 0.0007927699381639448, 0.016648168701442843, 0.015300459806564136, 0.0019026478515934676, 0.02933248771206596, 0.029491041699698746, 0.001664816870144284, 0.0019026478515934676, 0.0020612018392262565, 7.927699381639449e-05, 0.017916600602505155, 0.03955921991438085, 0.0007927699381639448, 0.04193752972887268, 0.07071507848422388, 0.0010306009196131283, 0.004439511653718091, 0.00776914539400666, 0.00015855398763278897, 0.027667670841921673, 0.03345489139051847, 0.00015855398763278897, 0.06453147296654511, 0.07975265577929284, 0.0007134929443475504, 0.007848422387823054, 0.006342159505311558, 7.927699381639449e-05, 0.0005549389567147614, 0.00015855398763278897, 0.0, 0.002140478833042651, 0.0019026478515934676, 7.927699381639449e-05, 0.0, 0.00015855398763278897, 0.0, 0.003646741715554146, 0.0009513239257967338, 0.0003963849690819724, 0.005549389567147614, 0.006421436499127953, 7.927699381639449e-05, 0.003488187727921357, 0.00031710797526557794, 0.00015855398763278897, 0.0007927699381639448, 0.0009513239257967338, 0.0, 0.007848422387823054, 0.007927699381639449, 7.927699381639449e-05, 0.0011098779134295228, 0.00015855398763278897, 0.0, 0.0005549389567147614, 0.0, 0.0, 0.0007134929443475504, 0.0003963849690819724, 0.0, 0.0006342159505311559, 0.0, 0.0, 0.008958300301252577, 0.012287934041541144, 0.0015062628825114953, 0.019185032503567463, 0.0244173140954495, 0.0009513239257967338, 0.001823370857777073, 0.0010306009196131283, 0.0, 0.013873473917869035, 0.016568891707626446, 0.001664816870144284, 0.027350562866656096, 0.03202790550182337, 0.0011891549072459173, 0.003726018709370541, 0.0017440938639606786, 7.927699381639449e-05, 0.0013477088948787063, 0.0011098779134295228, 0.00015855398763278897, 0.001823370857777073, 0.0013477088948787063, 7.927699381639449e-05, 0.00015855398763278897, 7.927699381639449e-05, 0.0, 0.00531155858569843, 0.001823370857777073, 0.0007927699381639448, 0.0015062628825114953, 0.0019819248454098623, 0.0, 0.0022197558268590455, 0.0, 7.927699381639449e-05, 0.0013477088948787063, 0.0012684319010623118, 0.0, 0.003488187727921357, 0.002140478833042651, 7.927699381639449e-05, 0.0006342159505311559, 7.927699381639449e-05, 0.0, 0.0007134929443475504, 0.0, 0.0, 0.00015855398763278897, 7.927699381639449e-05, 0.0, 0.0, 0.0, 7.927699381639449e-05]\n",
      "probability sum: 8.835420960837164\n",
      "0.03635975704048215\n",
      "4.781513630442447\n"
     ]
    }
   ],
   "source": [
    "# Probabilities\n",
    "word_pool = words\n",
    "word = 'laser'\n",
    "probabilities = []\n",
    "for pattern in pattern_grid:\n",
    "    a = reduce_word_pool(word_pool,word,pattern)\n",
    "    p = len(a)/len(word_pool)\n",
    "    probabilities.append(p)\n",
    "print(probabilities)\n",
    "print('probability sum:',sum(probabilities))\n",
    "probability = np.mean(probabilities)\n",
    "entropy = -np.log2(probability)\n",
    "\n",
    "print(probability)\n",
    "print(entropy)"
   ]
  },
  {
   "cell_type": "code",
   "execution_count": 4,
   "metadata": {},
   "outputs": [
    {
     "name": "stdout",
     "output_type": "stream",
     "text": [
      "['libio', 'libon', 'lichi', 'licio', 'licuo', 'licuo', 'licuo', 'lidio', 'lidio', 'lidon', 'light', 'ligio', 'ligon', 'lilio', 'limbo', 'limon', 'lindo', 'lindo', 'linio', 'linon', 'lipon', 'litio', 'lituo', 'liudo', 'liudo', 'llovi', 'lobby', 'lodon', 'loino', 'lolio', 'lombo', 'lonco', 'longo', 'lotin', 'lucho', 'lucho', 'lucid', 'lucio', 'lucio', 'ludid', 'ludio', 'ludio', 'luido', 'lumbo', 'lunch', 'luzco']\n",
      "46\n"
     ]
    }
   ],
   "source": [
    "word_pool = words\n",
    "pattern = [2,0,0,0,0]\n",
    "word = 'laser'\n",
    "new_pool = reduce_word_pool(word_pool, word, pattern)\n",
    "print(new_pool)\n",
    "print(len(new_pool))"
   ]
  }
 ],
 "metadata": {
  "interpreter": {
   "hash": "262a9e02d8a90539bc70f17660693948acd636a2bd8af6bebc2e3d24d9774a4b"
  },
  "kernelspec": {
   "display_name": "Python 3 (ipykernel)",
   "language": "python",
   "name": "python3"
  },
  "language_info": {
   "codemirror_mode": {
    "name": "ipython",
    "version": 3
   },
   "file_extension": ".py",
   "mimetype": "text/x-python",
   "name": "python",
   "nbconvert_exporter": "python",
   "pygments_lexer": "ipython3",
   "version": "3.8.12"
  }
 },
 "nbformat": 4,
 "nbformat_minor": 4
}
